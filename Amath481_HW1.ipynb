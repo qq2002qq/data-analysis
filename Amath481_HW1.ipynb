{
  "nbformat": 4,
  "nbformat_minor": 0,
  "metadata": {
    "colab": {
      "provenance": []
    },
    "kernelspec": {
      "name": "python3",
      "display_name": "Python 3"
    },
    "language_info": {
      "name": "python"
    }
  },
  "cells": [
    {
      "cell_type": "code",
      "execution_count": 1,
      "metadata": {
        "id": "s57FjVtCwSmN"
      },
      "outputs": [],
      "source": [
        "import numpy as np\n",
        "import matplotlib.pyplot as plt"
      ]
    },
    {
      "cell_type": "code",
      "source": [
        "# the function & the derivative\n",
        "def fx(x):\n",
        "  return x * np.sin(3*x) - np.exp(x)\n",
        "\n",
        "def dfx(x):\n",
        "  return x * np.cos(3*x) * 3 + np.sin(3*x) - np.exp(x)"
      ],
      "metadata": {
        "id": "mW-HH0tqS9OP"
      },
      "execution_count": 17,
      "outputs": []
    },
    {
      "cell_type": "code",
      "source": [
        "# Newton-Raphson method\n",
        "x = np.array([-1.6]) # initial guess\n",
        "for j in range(100):\n",
        "  x = np.append(x,x[j]-fx(x[j])/dfx(x[j]))\n",
        "  fc = fx(x[j])\n",
        "  if abs(fc) < 1e-6:\n",
        "    break\n",
        "A1 = x\n",
        "\n",
        "# number of iterations\n",
        "NR = j + 1"
      ],
      "metadata": {
        "id": "cwo6weC3T3NP"
      },
      "execution_count": 43,
      "outputs": []
    },
    {
      "cell_type": "code",
      "source": [
        "# Bisection\n",
        "xr = -0.4\n",
        "xl = -0.7\n",
        "mid = []\n",
        "for j in range(100):\n",
        "  mid.append((xr + xl)/2)\n",
        "  xc = (xr + xl)/2\n",
        "  fc = xc  *np.sin(3*xc) - np.exp(xc)\n",
        "  if ( fc > 0 ):\n",
        "    xl = xc\n",
        "  else:\n",
        "    xr = xc\n",
        "  if (abs(fc) < 1e-6):\n",
        "    break\n",
        "A2 = mid\n",
        "\n",
        "# number of iterations\n",
        "BI = j+1\n",
        "# Combine NR and BI\n",
        "A3 = [NR, BI]"
      ],
      "metadata": {
        "id": "Dm6_vuXdx6S_"
      },
      "execution_count": 44,
      "outputs": []
    },
    {
      "cell_type": "code",
      "source": [
        "# Define Matrix\n",
        "A = np.array([[1, 2], [-1, 1]])\n",
        "B = np.array([[2, 0], [0, 2]])\n",
        "C = np.array([[2, 0, -3], [0, 0, -1]])\n",
        "D = np.array([[1, 2], [2, 3], [-1, 0]])\n",
        "x = np.array([1, 0])\n",
        "y = np.array([0, 1])\n",
        "z = np.array([1, 2, -1])"
      ],
      "metadata": {
        "id": "-Wyrzy3GHMxW"
      },
      "execution_count": 54,
      "outputs": []
    },
    {
      "cell_type": "code",
      "source": [
        "# Calculate\n",
        "A4 = A + B\n",
        "A5 = 3 * x - 4 * y\n",
        "A6 = np.dot(A, x)\n",
        "A7 = np.dot(B, (x - y))\n",
        "A8 = np.dot(D, x)\n",
        "A9 = np.dot(D, y) + z\n",
        "A10 = np.dot(A, B)\n",
        "A11 = np.dot(B, C)\n",
        "A12 = np.dot(C, D)"
      ],
      "metadata": {
        "id": "DbxcjzsgH3kS"
      },
      "execution_count": 55,
      "outputs": []
    }
  ]
}