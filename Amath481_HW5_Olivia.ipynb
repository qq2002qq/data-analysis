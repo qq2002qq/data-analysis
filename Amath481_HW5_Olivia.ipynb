{
  "nbformat": 4,
  "nbformat_minor": 0,
  "metadata": {
    "colab": {
      "provenance": []
    },
    "kernelspec": {
      "name": "python3",
      "display_name": "Python 3"
    },
    "language_info": {
      "name": "python"
    }
  },
  "cells": [
    {
      "cell_type": "code",
      "execution_count": null,
      "metadata": {
        "id": "xN8Zbp0JUj5F"
      },
      "outputs": [],
      "source": [
        "import numpy as np\n",
        "import matplotlib.pyplot as plt\n",
        "from scipy.sparse import spdiags\n",
        "from scipy.fftpack import fft2, ifft2\n",
        "from scipy.integrate import odeint\n",
        "from scipy.sparse import eye, kron\n",
        "from scipy.integrate import solve_ivp\n",
        "from scipy.linalg import lu, solve_triangular\n",
        "from matplotlib.animation import FuncAnimation\n",
        "import time\n",
        "from scipy.sparse.linalg import bicgstab, gmres"
      ]
    },
    {
      "cell_type": "code",
      "source": [
        "L = 10\n",
        "m = 64\n",
        "n = m * m\n",
        "I = eye(n)\n",
        "grid = np.linspace(-L, L, m+1)\n",
        "dx = grid[1] - grid[0]\n",
        "#dx = 0.3125\n",
        "e0 = np.zeros((n, 1))  # vector of zeros\n",
        "e1 = np.ones((n, 1))   # vector of ones\n",
        "e2 = np.copy(e1)    # copy the one vector\n",
        "e4 = np.copy(e0)    # copy the zero vector\n",
        "\n",
        "for j in range(1, m+1):\n",
        "    e2[m*j-1] = 0  # overwrite every m^th value with zero\n",
        "    e4[m*j-1] = 1  # overwirte every m^th value with one\n",
        "\n",
        "# Shift to correct positions\n",
        "e3 = np.zeros_like(e2)\n",
        "e3[1:n] = e2[0:n-1]\n",
        "e3[0] = e2[n-1]\n",
        "\n",
        "e5 = np.zeros_like(e4)\n",
        "e5[1:n] = e4[0:n-1]\n",
        "e5[0] = e4[n-1]\n",
        "\n",
        "# Place diagonal elements\n",
        "diagonals = [e1.flatten(), e1.flatten(), e5.flatten(),\n",
        "             e2.flatten(), -4 * e1.flatten(), e3.flatten(),\n",
        "             e4.flatten(), e1.flatten(), e1.flatten()]\n",
        "offsets = [-(n-m), -m, -m+1, -1, 0, 1, m-1, m, (n-m)]\n",
        "\n",
        "matA = spdiags(diagonals, offsets, n, n).toarray()\n",
        "#matA[0,0] = 2\n",
        "A = matA/(dx**2)\n",
        "\n",
        "\n",
        "e0 = np.zeros((n, 1))  # vector of zeros\n",
        "e1 = np.ones((n, 1))   # vector of ones\n",
        "\n",
        "diagonals = [e1.flatten(), -1*e1.flatten(), e0.flatten(),\n",
        "             e1.flatten(), -1*e1.flatten()]\n",
        "offsets = [-(n-m), -m, 0, m, (n-m)]\n",
        "\n",
        "matA = spdiags(diagonals, offsets, n, n).toarray()\n",
        "B = matA/(dx*2)\n",
        "\n",
        "e0 = np.zeros((n, 1))  # vector of zeros\n",
        "e1 = np.ones((n, 1))   # vector of ones\n",
        "e2 = np.copy(e1)    # copy the one vector\n",
        "e4 = np.copy(e0)    # copy the zero vector\n",
        "\n",
        "for j in range(1, m+1):\n",
        "    e2[m*j-1] = 0  # 111011101110\n",
        "    e4[m*j-1] = 1  # 000100010001\n",
        "\n",
        "# Shift to correct positions\n",
        "e3 = np.zeros_like(e2)\n",
        "e3[1:n] = e2[0:n-1]\n",
        "e3[0] = e2[n-1] # 011101110111\n",
        "\n",
        "e5 = np.zeros_like(e4)\n",
        "e5[1:n] = e4[0:n-1]\n",
        "e5[0] = e4[n-1] # 100010001000\n",
        "\n",
        "# Place diagonal elements\n",
        "diagonals = [e5.flatten(),\n",
        "             -1* e2.flatten(), e0.flatten(), e3.flatten(),\n",
        "             -1*e4.flatten()]\n",
        "offsets = [-m+1, -1, 0, 1, m-1]\n",
        "\n",
        "matA = spdiags(diagonals, offsets, n, n).toarray()\n",
        "C = matA/(dx*2)\n",
        "A[0,0] = 2/ (dx**2)"
      ],
      "metadata": {
        "id": "oAA9QUatVPcK"
      },
      "execution_count": null,
      "outputs": []
    },
    {
      "cell_type": "code",
      "source": [
        "# print(C.shape, B.shape, A.shape)"
      ],
      "metadata": {
        "colab": {
          "base_uri": "https://localhost:8080/"
        },
        "id": "Wil4nFjkadJ7",
        "outputId": "6c28434d-341b-4fbe-ac74-8e82cf5d1bef"
      },
      "execution_count": null,
      "outputs": [
        {
          "output_type": "stream",
          "name": "stdout",
          "text": [
            "(4096, 4096) (4096, 4096) (4096, 4096)\n"
          ]
        }
      ]
    },
    {
      "cell_type": "code",
      "source": [
        "# Define parameters\n",
        "tspan = np.arange(0, 4.5, 0.5)\n",
        "nu = 0.001\n",
        "Lx, Ly = 20, 20\n",
        "nx, ny = 64, 64\n",
        "N = nx * ny\n",
        "\n",
        "# Define spatial domain and initial conditions\n",
        "x2 = np.linspace(-Lx/2, Lx/2, nx + 1)\n",
        "x = x2[:nx]\n",
        "y2 = np.linspace(-Ly/2, Ly/2, ny + 1)\n",
        "y = y2[:ny]\n",
        "X, Y = np.meshgrid(x, y)\n",
        "dx = x2[1]-x2[0]\n",
        "dy = y2[1]-y2[0]\n",
        "\n",
        "# Define spectral k values\n",
        "kx = (2 * np.pi / Lx) * np.concatenate((np.arange(0, nx/2), np.arange(-nx/2, 0)))\n",
        "kx[0] = 1e-6\n",
        "ky = (2 * np.pi / Ly) * np.concatenate((np.arange(0, ny/2), np.arange(-ny/2, 0)))\n",
        "ky[0] = 1e-6\n",
        "KX, KY = np.meshgrid(kx, ky)\n",
        "K = KX**2 + KY**2"
      ],
      "metadata": {
        "id": "D5unPsWgySx0"
      },
      "execution_count": null,
      "outputs": []
    },
    {
      "cell_type": "code",
      "source": [
        "# Define the ODE system\n",
        "# w space domian 3D\n",
        "# w2 space domian 2D\n",
        "# wt fourier domain 3D\n",
        "# wt2 fourier domain 2D\n",
        "\n",
        "# Initialize as complex\n",
        "w0 = np.exp(-X**2 - Y**2/20) + 1j * np.zeros((nx, ny))\n",
        "w2 = w0.reshape(N)\n",
        "# start_time = time.time()\n",
        "def spc_rhs(t, w2):\n",
        "    w = w2.reshape((nx, ny))\n",
        "    wt = fft2(w)\n",
        "    psit = -wt / K\n",
        "    psi = np.real(ifft2(psit)).reshape(N)\n",
        "    # [psi, w] = (B * psi)(C * w) - (C * psi)(B * w)\n",
        "    # rhs = nu * K * w + (C * psi)(B * w) - (B * psi)(C * w)\n",
        "    # rhs with w and psi\n",
        "    rhs = nu * np.dot(A,w2) + np.dot(C,psi) * np.dot(B,w2) - np.dot(B,psi) * np.dot(C,w2)\n",
        "    return rhs\n",
        "\n",
        "\n",
        "# Solve the ODE and plot the results\n",
        "wsol = solve_ivp(spc_rhs, [tspan[0], tspan[-1]], w2, t_eval=tspan, method='RK45')\n",
        "A1 =np.real(wsol.y)\n",
        "A1.shape\n",
        "# end_time = time.time()\n",
        "# elapsed_time = end_time - start_time\n",
        "# print(f\"Elapsed time: {elapsed_time:.2f} seconds\")\n",
        "\n",
        "# Visualization of results\n",
        "for j, t in enumerate(tspan):\n",
        "    plt.subplot(3, 3, j + 1)\n",
        "    plt.pcolor(x, y, A1[:,j].reshape((nx, ny)), shading='auto')\n",
        "    plt.title(f'Time: {t}')\n",
        "    plt.colorbar()\n",
        "\n",
        "plt.tight_layout()\n",
        "plt.show()"
      ],
      "metadata": {
        "id": "Dnb_h0_OU08o",
        "colab": {
          "base_uri": "https://localhost:8080/",
          "height": 487
        },
        "outputId": "0c58db59-0df5-476b-fd60-e49df73fe7ea"
      },
      "execution_count": null,
      "outputs": [
        {
          "output_type": "display_data",
          "data": {
            "text/plain": [
              "<Figure size 640x480 with 18 Axes>"
            ],
            "image/png": "[encoded data removed]"
          },
          "metadata": {}
        }
      ]
    },
    {
      "cell_type": "code",
      "source": [
        "print(A1[0,0])\n",
        "print(A1[-1,-1])"
      ],
      "metadata": {
        "colab": {
          "base_uri": "https://localhost:8080/"
        },
        "id": "8FXvb1nl_XlZ",
        "outputId": "e1df8876-7772-4250-98f7-16b57970681c"
      },
      "execution_count": null,
      "outputs": [
        {
          "output_type": "stream",
          "name": "stdout",
          "text": [
            "2.506567475899953e-46\n",
            "2.0841158240860071e-38\n"
          ]
        }
      ]
    },
    {
      "cell_type": "code",
      "source": [
        "# A/b\n",
        "w0 = np.exp(-X**2 - Y**2/20)\n",
        "w2 = w0.reshape(N)\n",
        "# start_time = time.time()\n",
        "def direct_solve_rhs(t, w2):\n",
        "  psi = np.linalg.solve(A, w2)\n",
        "  rhs = nu * np.dot(A,w2) + np.dot(C,psi) * np.dot(B,w2) - np.dot(B,psi) * np.dot(C,w2)\n",
        "  return rhs\n",
        "\n",
        "wsol = solve_ivp(direct_solve_rhs, [tspan[0], tspan[-1]], w2, t_eval=tspan, method='RK45')\n",
        "A2 =np.real(wsol.y)\n",
        "# end_time = time.time()\n",
        "# elapsed_time = end_time - start_time\n",
        "# print(f\"Elapsed time: {elapsed_time:.2f} seconds\")"
      ],
      "metadata": {
        "id": "WWsHp5zGfkV5"
      },
      "execution_count": null,
      "outputs": []
    },
    {
      "cell_type": "code",
      "source": [
        "print(A2[0,0], A2[-1,-1])"
      ],
      "metadata": {
        "colab": {
          "base_uri": "https://localhost:8080/"
        },
        "id": "5NUB9Z94qB-B",
        "outputId": "40605e2d-89c8-49f4-a5be-b1de1568b3ad"
      },
      "execution_count": null,
      "outputs": [
        {
          "output_type": "stream",
          "name": "stdout",
          "text": [
            "2.506567475899953e-46 3.1276125436618907e-20\n"
          ]
        }
      ]
    },
    {
      "cell_type": "code",
      "source": [
        "# LU\n",
        "# start_time = time.time()\n",
        "def LU(t, w2):\n",
        "  P, L, U = lu(A)\n",
        "  Pb = np.dot(P, w2)\n",
        "  y = solve_triangular(L, Pb, lower=True)\n",
        "  x = solve_triangular(U, y)\n",
        "  psi = x\n",
        "  rhs = nu * np.dot(A,w2) + np.dot(C,psi) * np.dot(B,w2) - np.dot(B,psi) * np.dot(C,w2)\n",
        "  return rhs\n",
        "\n",
        "wsol = solve_ivp(LU, [tspan[0], tspan[-1]], w2, t_eval=tspan, method='RK45')\n",
        "A3 =np.real(wsol.y)\n",
        "# end_time = time.time()\n",
        "# elapsed_time = end_time - start_time\n",
        "# print(f\"Elapsed time: {elapsed_time:.2f} seconds\")"
      ],
      "metadata": {
        "id": "8X-6Jum1pM2e"
      },
      "execution_count": null,
      "outputs": []
    },
    {
      "cell_type": "code",
      "source": [
        "print(A3[0,0], A3[-1,-1])"
      ],
      "metadata": {
        "colab": {
          "base_uri": "https://localhost:8080/"
        },
        "id": "U49-w83qqdDH",
        "outputId": "45c61576-52fa-45c0-cc34-9efdef2e46de"
      },
      "execution_count": null,
      "outputs": [
        {
          "output_type": "stream",
          "name": "stdout",
          "text": [
            "2.506567475899953e-46 3.12761254350041e-20\n"
          ]
        }
      ]
    },
    {
      "cell_type": "code",
      "source": [
        "# BICGSTAB\n",
        "# Track residuals\n",
        "residuals_bicgstab = []\n",
        "w0 = np.exp(-X**2 - Y**2/20)\n",
        "w2 = w0.reshape(N)\n",
        "def bicgstab_callback(res):\n",
        "#    residuals_bicgstab.append(res)\n",
        "\n",
        "def bic(t, w2):\n",
        "  psi_bicgstab, info_bicgstab = bicgstab(A, w2, tol=1e-6, maxiter=50, callback=bicgstab_callback)\n",
        "  if info_bicgstab != 0:\n",
        "        raise RuntimeError(f\"BICGSTAB did not converge at time {t}. Info: {info_bicgstab}\")\n",
        "  rhs = nu * np.dot(A,w2) + np.dot(C,psi_bicgstab) * np.dot(B,w2) - np.dot(B,psi_bicgstab) * np.dot(C,w2)\n",
        "  return rhs\n",
        "\n",
        "# Solve using BICGSTAB\n",
        " start_bicgstab = time.time()\n",
        " wsol = solve_ivp(bic, [tspan[0], tspan[-1]], w2, t_eval=tspan, method='RK45')\n",
        " time_bicgstab = time.time() - start_bicgstab\n"
      ],
      "metadata": {
        "id": "3r0y4iDgrVx3"
      },
      "execution_count": null,
      "outputs": []
    },
    {
      "cell_type": "code",
      "source": [
        "# GMRES\n",
        " x, flag, relres, iter = gmres(A, b, tol=tol, restart=restart, maxiter=maxit, M=M1, x0=x0)\n",
        " residuals_gmres = []\n",
        " def gmres_callback(res):\n",
        "    residuals_gmres.append(res)\n",
        "\n",
        "start_gmres = time.time()\n",
        "def gm(t, w2):\n",
        "  psi_gmres, info_gmres = gmres(A, w2, tol=1e-6, restart=50, maxiter=200, callback=gmres_callback)\n",
        "  if info_gmres != 0:\n",
        "        print(f\"GMRES did not converge at time {t}, info: {info_gmres}\")\n",
        "  rhs = nu * np.dot(A,w2) + np.dot(C,psi_gmres) * np.dot(B,w2) - np.dot(B,psi_gmres) * np.dot(C,w2)\n",
        "  return rhs\n",
        "\n",
        " Solve using GMRES\n",
        " wsol = solve_ivp(gm, [tspan[0], tspan[-1]], w2, t_eval=tspan, method='RK45')\n",
        " time_gmres = time.time() - start_gmres\n"
      ],
      "metadata": {
        "id": "RYnpvcLvsFGQ"
      },
      "execution_count": null,
      "outputs": []
    },
    {
      "cell_type": "code",
      "source": [
        "# def initialize_vorticity(case, X, Y, n_vortices=10):\n",
        "#    if case == \"opposite\":\n",
        "#        return np.exp(-((X - 5)**2 + Y**2/20)) - np.exp(-((X + 5)**2 + Y**2/20))\n",
        "#    elif case == \"same\":\n",
        "#        return np.exp(-((X - 5)**2 + Y**2/20)) + np.exp(-((X + 5)**2 + Y**2/20))\n",
        "#    elif case == \"colliding\":\n",
        "#        return (\n",
        "#            np.exp(-((X + 5)**2 + (Y + 5)**2/20)) +  # Positive vortex\n",
        "#            np.exp(-((X - 5)**2 + (Y - 5)**2/20)) -  # Positive vortex\n",
        "#            np.exp(-((X - 5)**2 + (Y + 5)**2/20)) -  # Negative vortex\n",
        "#            np.exp(-((X + 5)**2 + (Y - 5)**2/20))    # Negative vortex\n",
        "#        )\n",
        "#    elif case == \"random\":\n",
        "#        np.random.seed(42)  # For reproducibility\n",
        "#        omega = np.zeros_like(X)\n",
        "#        for _ in range(n_vortices):\n",
        "#            x0, y0 = np.random.uniform(-10, 10, 2)\n",
        "#            A = np.random.uniform(-1, 1)\n",
        "#            rx, ry = np.random.uniform(1, 3, 2)\n",
        "#            omega += A * np.exp(-((X - x0)**2 / rx**2 + (Y - y0)**2/20 / ry**2))\n",
        "#        return omega\n",
        "#    else:\n",
        "#        raise ValueError(\"Unknown case. Choose from 'opposite', 'same', 'colliding', or 'random'.\")\n"
      ],
      "metadata": {
        "id": "qZtUUENABiYM"
      },
      "execution_count": null,
      "outputs": []
    },
    {
      "cell_type": "code",
      "source": [
        "#case = \"opposite\"  # Change to \"same\", \"colliding\", or \"random\"\n",
        "#w0 = initialize_vorticity(case, X, Y).flatten()\n",
        "\n",
        "# Solve using your fastest solver (e.g., BICGSTAB or GMRES)\n",
        "#wsol = solve_ivp(spc_rhs, [tspan[0], tspan[-1]], w0, t_eval=tspan, method='RK45')\n",
        "\n",
        "# Reshape results for visualization\n",
        "#A_case = wsol.y.reshape((nx, ny, len(tspan)))\n",
        "\n",
        "# Set up the figure and axis\n",
        "#fig, ax = plt.subplots(figsize=(8, 6))\n",
        "#cax = ax.pcolor(X, Y, A_case[:, :, 0], shading=\"auto\", cmap=\"coolwarm\")\n",
        "#fig.colorbar(cax, ax=ax)\n",
        "#ax.set_title(\"Vorticity Dynamics\")\n",
        "#ax.set_xlabel(\"x\")\n",
        "#ax.set_ylabel(\"y\")\n",
        "\n",
        "# Animation update function\n",
        "# def update(frame):\n",
        "#    cax.set_array(A_case[:, :, frame].flatten())\n",
        "#    ax.set_title(f\"Time: {tspan[frame]:.1f}\")\n",
        "#    return cax,\n",
        "\n",
        "# Create the animation\n",
        "# ani = FuncAnimation(fig, update, frames=len(tspan), interval=200)\n",
        "\n",
        "# Save as a movie\n",
        "# ani.save(\"vorticity_dynamics.mp4\", writer=\"ffmpeg\", fps=10)\n",
        "\n",
        "# plt.show()\n"
      ],
      "metadata": {
        "id": "60YbpI7uCQAN"
      },
      "execution_count": null,
      "outputs": []
    },
    {
      "cell_type": "code",
      "source": [
        "import numpy as np\n",
        "import matplotlib.pyplot as plt\n",
        "from matplotlib.animation import FuncAnimation\n",
        "\n",
        "# Assuming A1, tspan, x, y, nx, ny are already defined\n",
        "fig, ax = plt.subplots()\n",
        "\n",
        "# Initial plot setup\n",
        "cmap = ax.pcolormesh(x, y, A1[:, 0].reshape((nx, ny)), shading='auto', cmap='viridis')\n",
        "cb = plt.colorbar(cmap, ax=ax)\n",
        "cb.set_label('Amplitude')\n",
        "\n",
        "ax.set_title(f'Time: {tspan[0]:.2f}')\n",
        "ax.set_xlabel('x')\n",
        "ax.set_ylabel('y')\n",
        "\n",
        "# Function to update the plot\n",
        "def update(frame):\n",
        "    # Update the data in the pcolormesh object\n",
        "    cmap.set_array(A1[:, frame].reshape((nx, ny)).ravel())\n",
        "    ax.set_title(f'Time: {tspan[frame]:.2f}')\n",
        "    return cmap, ax\n",
        "\n",
        "# Create animation\n",
        "ani = FuncAnimation(fig, update, frames=len(tspan), interval=200, blit=False)\n",
        "\n",
        "# Explicitly store the animation in a variable\n",
        "animation = ani\n",
        "\n",
        "# Display the animation\n",
        "plt.show()\n"
      ],
      "metadata": {
        "colab": {
          "base_uri": "https://localhost:8080/",
          "height": 528
        },
        "id": "f4VVcGMbwls3",
        "outputId": "db1aea31-0abf-48f4-f237-73dd8d9ee58c"
      },
      "execution_count": null,
      "outputs": [
        {
          "output_type": "stream",
          "name": "stderr",
          "text": [
            "/usr/local/lib/python3.10/dist-packages/matplotlib/animation.py:892: UserWarning: Animation was deleted without rendering anything. This is most likely not intended. To prevent deletion, assign the Animation to a variable, e.g. `anim`, that exists until you output the Animation using `plt.show()` or `anim.save()`.\n",
            "  warnings.warn(\n"
          ]
        },
        {
          "output_type": "display_data",
          "data": {
            "text/plain": [
              "<Figure size 640x480 with 2 Axes>"
            ],
            "image/png": "[encoded data removed]"
          },
          "metadata": {}
        }
      ]
    }
  ]
}